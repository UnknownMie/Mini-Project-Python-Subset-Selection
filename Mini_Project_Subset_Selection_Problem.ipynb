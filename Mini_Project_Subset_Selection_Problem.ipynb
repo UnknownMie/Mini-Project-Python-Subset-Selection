{
  "nbformat": 4,
  "nbformat_minor": 0,
  "metadata": {
    "colab": {
      "provenance": [],
      "authorship_tag": "ABX9TyPm+lOHMmYxOVui9yJ4denh",
      "include_colab_link": true
    },
    "kernelspec": {
      "name": "python3",
      "display_name": "Python 3"
    },
    "language_info": {
      "name": "python"
    }
  },
  "cells": [
    {
      "cell_type": "markdown",
      "metadata": {
        "id": "view-in-github",
        "colab_type": "text"
      },
      "source": [
        "<a href=\"https://colab.research.google.com/github/UnknownMie/Mini-Project-Python-Subset-Selection/blob/main/Mini_Project_Subset_Selection_Problem.ipynb\" target=\"_parent\"><img src=\"https://colab.research.google.com/assets/colab-badge.svg\" alt=\"Open In Colab\"/></a>"
      ]
    },
    {
      "cell_type": "markdown",
      "source": [
        "#**Subset Selection Problem**\n",
        "\n",
        "\n",
        "---\n",
        "\n",
        "##**1. Problem Statement:**\n",
        "\n",
        "---\n",
        "*   Find all the subsets from a set of numbers whose sum is zero.\n",
        "*   Constraint: Subset size must be 5\n",
        "*   Set={-12, -3, -6, 7, 2, -2, 6, 3, 9, -7, -5, -8, 1, 11, -9, -4}\n",
        "\n",
        "---\n",
        "##**Solution:**"
      ],
      "metadata": {
        "id": "dtb0KZ7oHOFO"
      }
    },
    {
      "cell_type": "code",
      "execution_count": 10,
      "metadata": {
        "id": "4IiKxY57HNSK",
        "colab": {
          "base_uri": "https://localhost:8080/"
        },
        "outputId": "35bf4db8-107a-4620-f87c-59a1917d0f48"
      },
      "outputs": [
        {
          "output_type": "stream",
          "name": "stdout",
          "text": [
            "Enter no. of iterations:1000\n",
            "(-6, -5, 3, 2, 6)\n",
            "(-4, 11, 7, -6, -8)\n",
            "(-9, 7, -7, 6, 3)\n",
            "(7, -7, 3, -4, 1)\n",
            "(7, 1, -3, -8, 3)\n",
            "(-4, 11, -8, -2, 3)\n",
            "(-3, -5, 7, -8, 9)\n",
            "(-4, 3, 2, -12, 11)\n",
            "(-3, 1, -8, 7, 3)\n",
            "(6, 3, 2, -5, -6)\n",
            "(-7, 2, 9, 1, -5)\n",
            "(6, 7, -2, -8, -3)\n",
            "(-3, 7, 3, -2, -5)\n",
            "(1, -2, 7, 2, -8)\n",
            "(3, 7, 11, -12, -9)\n",
            "(3, -5, 7, 2, -7)\n",
            "(3, -2, 6, -3, -4)\n",
            "(-8, 1, 6, -6, 7)\n",
            "(-9, 2, 3, -3, 7)\n"
          ]
        }
      ],
      "source": [
        "import random as r\n",
        "S = set([-12, -3, -6, 7, 2, -2, 6, 3, 9, -7, -5, -8, 1, 11, -9, -4])\n",
        "iterations = int(input(\"Enter no. of iterations:\"))\n",
        "result = set()\n",
        "for i in range(iterations):\n",
        "  A = r.sample(list(S),k= 5)\n",
        "  if (sum(A)==0):\n",
        "    result.add(tuple(A))\n",
        "#print(result)\n",
        "for i in result:\n",
        "  print(i)"
      ]
    },
    {
      "cell_type": "markdown",
      "source": [
        "\n",
        "---\n",
        "\n",
        "##**2. Problem Statement:**\n",
        "\n",
        "---\n",
        "*   Find all the subsets from a set of numbers whose sum is zero.\n",
        "*   Constraint: Subset size must be 3 to 6 only\n",
        "*   Set={-12, -3, -6, 7, 2, -2, 6, 3, 9, -7, -5, -8, 1, 11, -9, -4}\n",
        "\n",
        "---\n",
        "##**Solution:**"
      ],
      "metadata": {
        "id": "bpmTLDUOY-F6"
      }
    },
    {
      "cell_type": "code",
      "source": [
        "import random as r\n",
        "S = set([-12, -3, -6, 7, 2, -2, 6, 3, 9, -7, -5, -8, 1, 11, -9, -4])\n",
        "iterations = int(input(\"Enter no. of iterations:\"))\n",
        "min_size = 3\n",
        "max_size = 6\n",
        "result = set()\n",
        "for i in range(iterations):\n",
        "  size = r.randint(min_size,max_size)\n",
        "  A = r.sample(list(S),k= size)\n",
        "  if (sum(A)==0):\n",
        "    result.add(tuple(A))\n",
        "for i in result:\n",
        "  print(i)"
      ],
      "metadata": {
        "colab": {
          "base_uri": "https://localhost:8080/"
        },
        "id": "qJZr4ItQHhl6",
        "outputId": "9cdb9ae8-b89a-4d3c-eb6d-14bc5856f01b"
      },
      "execution_count": 11,
      "outputs": [
        {
          "output_type": "stream",
          "name": "stdout",
          "text": [
            "Enter no. of iterations:1000\n",
            "(1, 7, -8)\n",
            "(9, -2, -7)\n",
            "(-12, 6, -5, 11)\n",
            "(2, 9, -2, -9)\n",
            "(6, -2, -9, 9, -7, 3)\n",
            "(-5, -6, 11)\n",
            "(-8, -4, 9, 3)\n",
            "(1, 9, -5, -6, 3, -2)\n",
            "(-6, -8, -3, 11, 6)\n",
            "(-2, 7, -5)\n",
            "(-7, 3, -2, 11, -6, 1)\n",
            "(9, 1, -8, -4, 2)\n",
            "(-9, 7, 2)\n",
            "(6, -3, -6, 11, -8)\n",
            "(1, 3, -4)\n",
            "(3, 6, -12, -8, 11)\n",
            "(-7, 1, 11, -5)\n",
            "(-2, 11, -9)\n",
            "(-4, -3, 11, -6, 9, -7)\n",
            "(-2, 6, 2, -6)\n",
            "(2, 9, -8, -3)\n",
            "(9, -9, -2, 2)\n",
            "(-5, 11, -6)\n",
            "(6, 2, -9, -8, 9)\n"
          ]
        }
      ]
    }
  ]
}